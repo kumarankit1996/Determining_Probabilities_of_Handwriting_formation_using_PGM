{
  "nbformat": 4,
  "nbformat_minor": 0,
  "metadata": {
    "colab": {
      "name": "Project1.ipynb",
      "version": "0.3.2",
      "provenance": [],
      "collapsed_sections": []
    },
    "kernelspec": {
      "display_name": "Python 2",
      "language": "python",
      "name": "python2"
    }
  },
  "cells": [
    {
      "metadata": {
        "id": "xX5c1HJUH7hd",
        "colab_type": "code",
        "colab": {}
      },
      "cell_type": "code",
      "source": [
        "import numpy as np\n",
        "import pandas as pd\n",
        "import math\n",
        "import io"
      ],
      "execution_count": 0,
      "outputs": []
    },
    {
      "metadata": {
        "id": "VEw3TkQhH7hg",
        "colab_type": "code",
        "outputId": "d196931b-d53b-4873-8c8c-c298ab82918c",
        "colab": {
          "base_uri": "https://localhost:8080/",
          "height": 102
        }
      },
      "cell_type": "code",
      "source": [
        "!pip install pgmpy"
      ],
      "execution_count": 2,
      "outputs": [
        {
          "output_type": "stream",
          "text": [
            "Requirement already satisfied: pgmpy in /usr/local/lib/python2.7/dist-packages (0.1.7)\n",
            "Requirement already satisfied: scipy>=1.0.0 in /usr/local/lib/python2.7/dist-packages (from pgmpy) (1.1.0)\n",
            "Requirement already satisfied: networkx<1.12,>=1.11 in /usr/local/lib/python2.7/dist-packages (from pgmpy) (1.11)\n",
            "Requirement already satisfied: numpy>=1.14.0 in /usr/local/lib/python2.7/dist-packages (from pgmpy) (1.14.6)\n",
            "Requirement already satisfied: decorator>=3.4.0 in /usr/local/lib/python2.7/dist-packages (from networkx<1.12,>=1.11->pgmpy) (4.3.2)\n"
          ],
          "name": "stdout"
        }
      ]
    },
    {
      "metadata": {
        "id": "u9lT2lHAImEC",
        "colab_type": "code",
        "colab": {}
      },
      "cell_type": "code",
      "source": [
        "from pgmpy.models import BayesianModel\n",
        "from pgmpy.factors.discrete import TabularCPD\n",
        "from pgmpy.sampling import BayesianModelSampling\n",
        "from pgmpy.estimators import K2Score\n",
        "from pgmpy.inference import VariableElimination\n",
        "from timeit import default_timer as timer\n",
        "from pgmpy.estimators import ExhaustiveSearch\n",
        "from pgmpy.estimators import HillClimbSearch\n",
        "from pgmpy.estimators import BayesianEstimator"
      ],
      "execution_count": 0,
      "outputs": []
    },
    {
      "metadata": {
        "id": "6JjE1MwvIIZj",
        "colab_type": "code",
        "outputId": "2b12badf-ef49-4e18-d72b-ac0240e8e962",
        "colab": {
          "resources": {
            "http://localhost:8080/nbextensions/google.colab/files.js": {
              "data": "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",
              "ok": true,
              "headers": [
                [
                  "content-type",
                  "application/javascript"
                ]
              ],
              "status": 200,
              "status_text": ""
            }
          },
          "base_uri": "https://localhost:8080/",
          "height": 309
        }
      },
      "cell_type": "code",
      "source": [
        "from google.colab import files\n",
        "uploaded = files.upload()"
      ],
      "execution_count": 4,
      "outputs": [
        {
          "output_type": "display_data",
          "data": {
            "text/plain": [
              "<IPython.core.display.HTML object>"
            ],
            "text/html": [
              "\n",
              "     <input type=\"file\" id=\"files-49b10025-98cc-41c2-bca4-045e19e65b31\" name=\"files[]\" multiple disabled />\n",
              "     <output id=\"result-49b10025-98cc-41c2-bca4-045e19e65b31\">\n",
              "      Upload widget is only available when the cell has been executed in the\n",
              "      current browser session. Please rerun this cell to enable.\n",
              "      </output>\n",
              "      <script src=\"/nbextensions/google.colab/files.js\"></script> "
            ]
          },
          "metadata": {
            "tags": []
          }
        },
        {
          "output_type": "stream",
          "text": [
            "Saving AND.csv to AND (1).csv\n",
            "Saving Table2.csv to Table2 (3).csv\n",
            "Saving Table3.csv to Table3 (3).csv\n",
            "Saving Table4.csv to Table4 (3).csv\n",
            "Saving Table5.csv to Table5 (3).csv\n",
            "Saving Table6.csv to Table6 (3).csv\n",
            "Saving Table7.csv to Table7 (3).csv\n",
            "Saving Table8.csv to Table8 (3).csv\n"
          ],
          "name": "stdout"
        }
      ]
    },
    {
      "metadata": {
        "id": "a6CimCI891Fu",
        "colab_type": "text"
      },
      "cell_type": "markdown",
      "source": [
        "# Task 1"
      ]
    },
    {
      "metadata": {
        "id": "ZqeTpOfNH7hi",
        "colab_type": "text"
      },
      "cell_type": "markdown",
      "source": [
        "# Data Pre-Processing for Marginal Table "
      ]
    },
    {
      "metadata": {
        "id": "CQlDzjYuH7hj",
        "colab_type": "code",
        "outputId": "bee07713-5c30-4efb-e0c1-fcae5f13e368",
        "colab": {
          "base_uri": "https://localhost:8080/",
          "height": 102
        }
      },
      "cell_type": "code",
      "source": [
        "#Reading the Marginal distribution file\n",
        "read=pd.read_csv(\"Table2.csv\")\n",
        "# etxracting values from the data frame\n",
        "marginal=read.values\n",
        "# removing the extra column\n",
        "marginal=marginal[:,1:7]\n",
        "x1=[]\n",
        "x2=[]\n",
        "x3=[]\n",
        "x4=[]\n",
        "x5=[]\n",
        "x6=[]\n",
        "#removing unwanted info and finding the probability percentage\n",
        "for i in range (0,len(marginal)):\n",
        "    for j in range (0,len(marginal[0])):\n",
        "        value=[]\n",
        "        marginal[i][j]=(float(marginal[i][j].split('%')[0]))/100\n",
        "        if marginal[i][j]!=0:\n",
        "            value.append(marginal[i][j])\n",
        "            #extracting the value of marginal probability\n",
        "            if j==0:\n",
        "                x1.append(value)\n",
        "            elif j==1:\n",
        "                x2.append(value)\n",
        "            elif j==2:\n",
        "                x3.append(value)\n",
        "            elif j==3:\n",
        "                x4.append(value)\n",
        "            elif j==4:\n",
        "                x5.append(value)\n",
        "            elif j==5:\n",
        "                x6.append(value)\n",
        "print(marginal)"
      ],
      "execution_count": 5,
      "outputs": [
        {
          "output_type": "stream",
          "text": [
            "[[0.78 0.275 0.18 0.715 0.375 0.015]\n",
            " [0.015 0.32 0.66 0.105 0.11 0.32]\n",
            " [0.055 0.025 0.16 0.01 0.105 0.14]\n",
            " [0.15 0.17 0.0 0.17 0.41 0.315]\n",
            " [0.0 0.21 0.0 0.0 0.0 0.21]]\n"
          ],
          "name": "stdout"
        }
      ]
    },
    {
      "metadata": {
        "id": "VQp-b8L6H7hl",
        "colab_type": "code",
        "colab": {}
      },
      "cell_type": "code",
      "source": [
        "correlation=np.zeros((6,6))\n",
        "important=np.zeros((6,6))\n",
        "cpd_values=dict()"
      ],
      "execution_count": 0,
      "outputs": []
    },
    {
      "metadata": {
        "id": "0zKjB569H7ho",
        "colab_type": "text"
      },
      "cell_type": "markdown",
      "source": [
        "# Data Pre-Processing for CPD"
      ]
    },
    {
      "metadata": {
        "id": "r_uwHk4iH7hp",
        "colab_type": "code",
        "colab": {}
      },
      "cell_type": "code",
      "source": [
        "def prep_data(dataset):\n",
        "    global cpd_values\n",
        "    #Reading the CPD for given X1\n",
        "    read=pd.read_csv(dataset)\n",
        "    y=list(read)\n",
        "    #y is the given variable\n",
        "    y=int(y[0].split('x')[1])\n",
        "    #extracting values\n",
        "    cpd=read.values\n",
        "    # loop for fixing individual element\n",
        "    for i in range(0,len(cpd)):\n",
        "        for j in range(0,len(cpd[0])):\n",
        "            # finding the variable name \n",
        "            if(j==0 and i!=0):\n",
        "                temp=cpd[i][j].split(' ')[0]\n",
        "                cpd[i][j]=int(temp.split('x')[1])\n",
        "            # finding the probabilty in percentage\n",
        "            elif(j>0):\n",
        "                cpd[i][j]=(float(cpd[i][j].split('%')[0]))/100\n",
        "    #print(cpd)\n",
        "    # function call for finding corellation\n",
        "    #returned last key and values of cpd\n",
        "    key,values=find_correlation(cpd,y)\n",
        "    # add key value to dict\n",
        "    cpd_values[key]=values"
      ],
      "execution_count": 0,
      "outputs": []
    },
    {
      "metadata": {
        "id": "1hSlVk2VH7hr",
        "colab_type": "text"
      },
      "cell_type": "markdown",
      "source": [
        "# Finding the correlation in table"
      ]
    },
    {
      "metadata": {
        "id": "S1CiTPZzH7hs",
        "colab_type": "code",
        "colab": {}
      },
      "cell_type": "code",
      "source": [
        "def find_correlation(cpd,y):\n",
        "    # sum of xi|x1\n",
        "    sum_x=np.zeros((1,3))\n",
        "    global independence\n",
        "    global cpd_values\n",
        "    # values for the key\n",
        "    values=[]\n",
        "    # first x_num\n",
        "    prev_x_num=cpd[1][0]%10\n",
        "    #loop for finding values from cpd given xi\n",
        "    for i in range(1,len(cpd)):\n",
        "        column=[]\n",
        "        for j in range(1,len(cpd[0])):\n",
        "            #finding the xi\n",
        "            x_num=cpd[i][0]%10\n",
        "            #finding the xi sub part\n",
        "            x_sub=int(cpd[i][0]/10)\n",
        "            # calculating the joint probability\n",
        "            p_xi_xj=cpd[i][j]*cpd[0][j]\n",
        "            # calculating the sum of x2|x1\n",
        "            correlation[x_num-1][y-1]+=abs(p_xi_xj-(cpd[0][j]*marginal[x_sub][x_num-1]))\n",
        "            #append values for each column\n",
        "            column.append(cpd[i][j])\n",
        "        # if x_num changes \n",
        "        if prev_x_num!=x_num:\n",
        "            #add values to dict\n",
        "            cpd_values[key]=values\n",
        "            # initailise value for new sub x\n",
        "            values=[]\n",
        "            # store the change x_num\n",
        "            prev_x_num=x_num\n",
        "        # create key\n",
        "        key='x'+str(x_num)+'_x'+str(y)\n",
        "        # add values for the x_num key\n",
        "        values.append(column)\n",
        "    return key,values"
      ],
      "execution_count": 0,
      "outputs": []
    },
    {
      "metadata": {
        "id": "UnuUo-HeH7hu",
        "colab_type": "text"
      },
      "cell_type": "markdown",
      "source": [
        "#  Prepare data and Calculate Correlation"
      ]
    },
    {
      "metadata": {
        "id": "GD89fgciH7hu",
        "colab_type": "code",
        "outputId": "ca96045f-dd2d-4dc8-d224-993370359257",
        "colab": {
          "base_uri": "https://localhost:8080/",
          "height": 136
        }
      },
      "cell_type": "code",
      "source": [
        "# Function call for preprocessing of each dataset\n",
        "#print(\"X1:\")\n",
        "prep_data(\"Table3.csv\")\n",
        "\n",
        "#print(\"X2:\")\n",
        "prep_data(\"Table4.csv\")\n",
        "\n",
        "\n",
        "#print(\"X3:\")\n",
        "prep_data(\"Table5.csv\")\n",
        "\n",
        "\n",
        "#print(\"X4:\")\n",
        "prep_data(\"Table6.csv\")\n",
        "\n",
        "\n",
        "#print(\"X5:\")\n",
        "prep_data(\"Table7.csv\")\n",
        "\n",
        "\n",
        "#print(\"X6:\")\n",
        "prep_data(\"Table8.csv\")\n",
        "\n",
        "\n",
        "print(correlation)\n",
        "'''\n",
        "for k,v in cpd_values.items():\n",
        "    print(k)'''"
      ],
      "execution_count": 67,
      "outputs": [
        {
          "output_type": "stream",
          "text": [
            "[[0.       0.       0.       0.11957  0.       0.16037 ]\n",
            " [0.15977  0.       0.218758 0.1157   0.12939  0.175315]\n",
            " [0.       0.218525 0.       0.       0.115965 0.094025]\n",
            " [0.11943  0.       0.       0.       0.       0.14307 ]\n",
            " [0.       0.12926  0.11552  0.       0.       0.      ]\n",
            " [0.160155 0.       0.11258  0.14347  0.       0.      ]]\n"
          ],
          "name": "stdout"
        },
        {
          "output_type": "execute_result",
          "data": {
            "text/plain": [
              "'\\nfor k,v in cpd_values.items():\\n    print(k)'"
            ]
          },
          "metadata": {
            "tags": []
          },
          "execution_count": 67
        }
      ]
    },
    {
      "metadata": {
        "id": "qGHKes4bH7hy",
        "colab_type": "text"
      },
      "cell_type": "markdown",
      "source": [
        "# Finding the Correlation "
      ]
    },
    {
      "metadata": {
        "id": "k0AWbRZuH7hz",
        "colab_type": "code",
        "outputId": "a341fb27-2986-4810-abfb-84e3a2da2c45",
        "colab": {
          "base_uri": "https://localhost:8080/",
          "height": 136
        }
      },
      "cell_type": "code",
      "source": [
        "for i in range (0,len(important)):\n",
        "    for j in range(0,len(important[0])):\n",
        "        if correlation[i][j]<0.15:\n",
        "            # if less than threshold then less correlation\n",
        "            important[i][j]=0\n",
        "        else:\n",
        "            important[i][j]=1\n",
        "# converting into data frame\n",
        "df=pd.DataFrame.from_records(important,columns=['x1','x2','x3','x4','x5','x6'])\n",
        "print(df)"
      ],
      "execution_count": 68,
      "outputs": [
        {
          "output_type": "stream",
          "text": [
            "    x1   x2   x3   x4   x5   x6\n",
            "0  0.0  0.0  0.0  0.0  0.0  1.0\n",
            "1  1.0  0.0  1.0  0.0  0.0  1.0\n",
            "2  0.0  1.0  0.0  0.0  0.0  0.0\n",
            "3  0.0  0.0  0.0  0.0  0.0  0.0\n",
            "4  0.0  0.0  0.0  0.0  0.0  0.0\n",
            "5  1.0  0.0  0.0  0.0  0.0  0.0\n"
          ],
          "name": "stdout"
        }
      ]
    },
    {
      "metadata": {
        "id": "GyVbef4sH7h1",
        "colab_type": "text"
      },
      "cell_type": "markdown",
      "source": [
        "# Creating CPD"
      ]
    },
    {
      "metadata": {
        "id": "p7tABPvPH7h2",
        "colab_type": "code",
        "colab": {}
      },
      "cell_type": "code",
      "source": [
        "def create_cpd(x,y):\n",
        "    cpd=TabularCPD('x'+str(x),len(cpd_values['x'+str(x)+'_x'+str(y)]),cpd_values['x'+str(x)+'_x'+str(y)],evidence=['x'+str(y)],evidence_card=[len(cpd_values['x'+str(x)+'_x'+str(y)][0])])\n",
        "    #print(cpd)\n",
        "    return cpd"
      ],
      "execution_count": 0,
      "outputs": []
    },
    {
      "metadata": {
        "id": "AxfhoY1nH7h4",
        "colab_type": "code",
        "colab": {}
      },
      "cell_type": "code",
      "source": [
        "# calling function for creating cpd\n",
        "cpd_x2_x1=create_cpd(2,1)\n",
        "cpd_x4_x1=create_cpd(4,1)\n",
        "cpd_x6_x1=create_cpd(6,1)\n",
        "cpd_x3_x2=create_cpd(3,2)\n",
        "cpd_x5_x2=create_cpd(5,2)\n",
        "cpd_x2_x3=create_cpd(2,3)\n",
        "cpd_x5_x3=create_cpd(5,3)\n",
        "cpd_x6_x3=create_cpd(6,3)\n",
        "cpd_x1_x4=create_cpd(1,4)\n",
        "cpd_x2_x4=create_cpd(2,4)\n",
        "cpd_x6_x4=create_cpd(6,4)\n",
        "cpd_x2_x5=create_cpd(2,5)\n",
        "cpd_x3_x5=create_cpd(3,5)\n",
        "cpd_x1_x6=create_cpd(1,6)\n",
        "cpd_x2_x6=create_cpd(2,6)\n",
        "cpd_x3_x6=create_cpd(3,6)\n",
        "cpd_x4_x6=create_cpd(4,6)"
      ],
      "execution_count": 0,
      "outputs": []
    },
    {
      "metadata": {
        "id": "7asXZx0HqUJt",
        "colab_type": "text"
      },
      "cell_type": "markdown",
      "source": [
        "# Creating Marginal probability"
      ]
    },
    {
      "metadata": {
        "id": "8hzZymMPqbHd",
        "colab_type": "code",
        "colab": {}
      },
      "cell_type": "code",
      "source": [
        "#creating marginal probability for each node\n",
        "cpd_x1=TabularCPD('x1',4,x1)\n",
        "cpd_x2=TabularCPD('x2',5,x2)\n",
        "cpd_x3=TabularCPD('x3',3,x3)\n",
        "cpd_x4=TabularCPD('x4',4,x4)\n",
        "cpd_x5=TabularCPD('x5',4,x5)\n",
        "cpd_x6=TabularCPD('x6',5,x6)"
      ],
      "execution_count": 0,
      "outputs": []
    },
    {
      "metadata": {
        "id": "uffdeO6c_7cL",
        "colab_type": "text"
      },
      "cell_type": "markdown",
      "source": [
        "# Task 2"
      ]
    },
    {
      "metadata": {
        "id": "Ahzu24IwH7h5",
        "colab_type": "text"
      },
      "cell_type": "markdown",
      "source": [
        "# Create Bayes Model"
      ]
    },
    {
      "metadata": {
        "id": "ehevcrrenyZD",
        "colab_type": "text"
      },
      "cell_type": "markdown",
      "source": [
        "#Function for sampling the Dataset using CPD"
      ]
    },
    {
      "metadata": {
        "id": "2o1eOirKnxTO",
        "colab_type": "code",
        "colab": {}
      },
      "cell_type": "code",
      "source": [
        "def sampling_model(model,x):\n",
        "  infer=BayesianModelSampling(model)\n",
        "  sample=infer.forward_sample(size=1000,return_type='dataframe')\n",
        "  return sample"
      ],
      "execution_count": 0,
      "outputs": []
    },
    {
      "metadata": {
        "id": "Lmu5qbiyn4l1",
        "colab_type": "text"
      },
      "cell_type": "markdown",
      "source": [
        "# Function for calculating the K2 Score"
      ]
    },
    {
      "metadata": {
        "id": "JQYmk5BNn41C",
        "colab_type": "code",
        "colab": {}
      },
      "cell_type": "code",
      "source": [
        "def K2_scoring(sample,model,x):\n",
        "  s=K2Score(sample)\n",
        "  print(\"K2 score of model\"+str(x)+\":\"+str(s.score(model)))\n",
        "  return s.score(model)"
      ],
      "execution_count": 0,
      "outputs": []
    },
    {
      "metadata": {
        "id": "Y7w7SrXCQj1W",
        "colab_type": "text"
      },
      "cell_type": "markdown",
      "source": [
        "# Model 1"
      ]
    },
    {
      "metadata": {
        "id": "l_Djuq3nH7h6",
        "colab_type": "code",
        "outputId": "55c8677a-22d1-4356-f734-b70b3e8cc25b",
        "colab": {
          "base_uri": "https://localhost:8080/",
          "height": 68
        }
      },
      "cell_type": "code",
      "source": [
        "# create bayesian model\n",
        "model1= BayesianModel()\n",
        "# adding edges to the model\n",
        "model1.add_edges_from([('x6','x4'),('x6','x1'),('x1','x2'),('x2','x5'),('x2','x3')])\n",
        "# checking for the nodes connected to the given node\n",
        "print(model1.active_trail_nodes('x6'))\n",
        "# checking all the nodes in the model\n",
        "print(model1.edges())\n",
        "# adding cpds to model\n",
        "model1.add_cpds(cpd_x6,cpd_x4_x6,cpd_x1_x6,cpd_x2_x1,cpd_x5_x2,cpd_x3_x2)\n",
        "# checking for cpds in model\n",
        "model1.get_cpds()\n",
        "#checking for model \n",
        "model1.check_model()"
      ],
      "execution_count": 90,
      "outputs": [
        {
          "output_type": "stream",
          "text": [
            "{'x6': set(['x2', 'x3', 'x1', 'x6', 'x4', 'x5'])}\n",
            "[('x2', 'x3'), ('x2', 'x5'), ('x1', 'x2'), ('x6', 'x1'), ('x6', 'x4')]\n"
          ],
          "name": "stdout"
        },
        {
          "output_type": "execute_result",
          "data": {
            "text/plain": [
              "True"
            ]
          },
          "metadata": {
            "tags": []
          },
          "execution_count": 90
        }
      ]
    },
    {
      "metadata": {
        "id": "xoNbWaNfpBnD",
        "colab_type": "text"
      },
      "cell_type": "markdown",
      "source": [
        "# Sampling the model"
      ]
    },
    {
      "metadata": {
        "id": "HF28V2oCH7h_",
        "colab_type": "code",
        "colab": {}
      },
      "cell_type": "code",
      "source": [
        "x1=sampling_model(model1,1)"
      ],
      "execution_count": 0,
      "outputs": []
    },
    {
      "metadata": {
        "id": "24uF39wk93Rp",
        "colab_type": "code",
        "colab": {
          "base_uri": "https://localhost:8080/",
          "height": 34
        },
        "outputId": "19f26afd-a9a5-4981-eda2-1ac423d3fea7"
      },
      "cell_type": "code",
      "source": [
        "s1=K2_scoring(x1,model1,1)"
      ],
      "execution_count": 92,
      "outputs": [
        {
          "output_type": "stream",
          "text": [
            "K2 score of model1:-6388.92059316\n"
          ],
          "name": "stdout"
        }
      ]
    },
    {
      "metadata": {
        "id": "--Yqbp-YkXyT",
        "colab_type": "text"
      },
      "cell_type": "markdown",
      "source": [
        "# Model 2"
      ]
    },
    {
      "metadata": {
        "id": "tMiLwnWYjYou",
        "colab_type": "code",
        "outputId": "f6566a00-ca55-4121-a6ae-fad906b03ed3",
        "colab": {
          "base_uri": "https://localhost:8080/",
          "height": 68
        }
      },
      "cell_type": "code",
      "source": [
        "#create bayesian model\n",
        "model2=BayesianModel()\n",
        "#add edges to the model\n",
        "model2.add_edges_from([('x1','x6'),('x1','x4'),('x1','x2'),('x2','x5'),('x2','x3')])\n",
        "# checking for the nodes connected to the given node\n",
        "print(model2.active_trail_nodes('x1'))\n",
        "# checking all the nodes in the model\n",
        "print(model2.edges())\n",
        "# adding cpds to model\n",
        "model2.add_cpds(cpd_x1,cpd_x4_x1,cpd_x6_x1,cpd_x2_x1,cpd_x5_x2,cpd_x3_x2)\n",
        "# checking for cpds in model\n",
        "model2.get_cpds()\n",
        "#checking for model \n",
        "model2.check_model()"
      ],
      "execution_count": 93,
      "outputs": [
        {
          "output_type": "stream",
          "text": [
            "{'x1': set(['x2', 'x3', 'x1', 'x6', 'x4', 'x5'])}\n",
            "[('x2', 'x3'), ('x2', 'x5'), ('x1', 'x2'), ('x1', 'x6'), ('x1', 'x4')]\n"
          ],
          "name": "stdout"
        },
        {
          "output_type": "execute_result",
          "data": {
            "text/plain": [
              "True"
            ]
          },
          "metadata": {
            "tags": []
          },
          "execution_count": 93
        }
      ]
    },
    {
      "metadata": {
        "id": "0o4Pu9plspiF",
        "colab_type": "text"
      },
      "cell_type": "markdown",
      "source": [
        "# Sampling the Model"
      ]
    },
    {
      "metadata": {
        "id": "-R8h9XnfryRn",
        "colab_type": "code",
        "colab": {}
      },
      "cell_type": "code",
      "source": [
        "x2=sampling_model(model2,2)"
      ],
      "execution_count": 0,
      "outputs": []
    },
    {
      "metadata": {
        "id": "KzqNYXQ1-BNA",
        "colab_type": "code",
        "colab": {
          "base_uri": "https://localhost:8080/",
          "height": 34
        },
        "outputId": "4b31f591-28e7-4c32-cc30-b24192452692"
      },
      "cell_type": "code",
      "source": [
        "s2=K2_scoring(x2,model2,2)"
      ],
      "execution_count": 95,
      "outputs": [
        {
          "output_type": "stream",
          "text": [
            "K2 score of model2:-6412.07387078\n"
          ],
          "name": "stdout"
        }
      ]
    },
    {
      "metadata": {
        "id": "fCjkmd4NsuOF",
        "colab_type": "text"
      },
      "cell_type": "markdown",
      "source": [
        "# Model 3"
      ]
    },
    {
      "metadata": {
        "id": "Ec5euW4-swbp",
        "colab_type": "code",
        "outputId": "9afadafc-a75d-4975-a35e-df1e8f727b8e",
        "colab": {
          "base_uri": "https://localhost:8080/",
          "height": 68
        }
      },
      "cell_type": "code",
      "source": [
        "#create bayesian model\n",
        "model3=BayesianModel()\n",
        "#add edges to the model\n",
        "model3.add_edges_from([('x1','x6'),('x1','x4'),('x4','x2'),('x2','x5'),('x6','x3')])\n",
        "# checking for the nodes connected to the given node\n",
        "print(model3.active_trail_nodes('x1'))\n",
        "# checking all the nodes in the model\n",
        "print(model3.edges())\n",
        "# adding cpds to model\n",
        "model3.add_cpds(cpd_x1,cpd_x4_x1,cpd_x6_x1,cpd_x2_x4,cpd_x5_x2,cpd_x3_x6)\n",
        "# checking for cpds in model\n",
        "model3.get_cpds()\n",
        "#checking for model \n",
        "model3.check_model()"
      ],
      "execution_count": 96,
      "outputs": [
        {
          "output_type": "stream",
          "text": [
            "{'x1': set(['x2', 'x3', 'x1', 'x6', 'x4', 'x5'])}\n",
            "[('x2', 'x5'), ('x1', 'x6'), ('x1', 'x4'), ('x6', 'x3'), ('x4', 'x2')]\n"
          ],
          "name": "stdout"
        },
        {
          "output_type": "execute_result",
          "data": {
            "text/plain": [
              "True"
            ]
          },
          "metadata": {
            "tags": []
          },
          "execution_count": 96
        }
      ]
    },
    {
      "metadata": {
        "id": "FjdVBBOMtQgK",
        "colab_type": "text"
      },
      "cell_type": "markdown",
      "source": [
        "# Sampling the model"
      ]
    },
    {
      "metadata": {
        "id": "GIrfZbrBtTMX",
        "colab_type": "code",
        "colab": {}
      },
      "cell_type": "code",
      "source": [
        "x3=sampling_model(model3,3)"
      ],
      "execution_count": 0,
      "outputs": []
    },
    {
      "metadata": {
        "id": "y_PMzPxp-PPy",
        "colab_type": "code",
        "colab": {
          "base_uri": "https://localhost:8080/",
          "height": 34
        },
        "outputId": "147bb32c-8182-4c8e-99d4-8e38c33a32d5"
      },
      "cell_type": "code",
      "source": [
        "s3=K2_scoring(x3,model3,3)"
      ],
      "execution_count": 98,
      "outputs": [
        {
          "output_type": "stream",
          "text": [
            "K2 score of model3:-6429.4707998\n"
          ],
          "name": "stdout"
        }
      ]
    },
    {
      "metadata": {
        "id": "GchQCLaK2APA",
        "colab_type": "text"
      },
      "cell_type": "markdown",
      "source": [
        "# Model 4"
      ]
    },
    {
      "metadata": {
        "id": "ri763r5w1_W_",
        "colab_type": "code",
        "outputId": "5bae978b-0779-40a7-8f8a-f72dfc15bc0e",
        "colab": {
          "base_uri": "https://localhost:8080/",
          "height": 68
        }
      },
      "cell_type": "code",
      "source": [
        "#create bayesian model\n",
        "model4=BayesianModel()\n",
        "#add edges to the model\n",
        "model4.add_edges_from([('x6','x1'),('x6','x2'),('x6','x3'),('x6','x4'),('x2','x5')])\n",
        "# checking for the nodes connected to the given node\n",
        "print(model4.active_trail_nodes('x6'))\n",
        "# checking all the nodes in the model\n",
        "print(model4.edges())\n",
        "# adding cpds to model\n",
        "model4.add_cpds(cpd_x6,cpd_x1_x6,cpd_x2_x6,cpd_x3_x6,cpd_x4_x6,cpd_x5_x2)\n",
        "# checking for cpds in model\n",
        "model4.get_cpds()\n",
        "#checking for model \n",
        "model4.check_model()"
      ],
      "execution_count": 99,
      "outputs": [
        {
          "output_type": "stream",
          "text": [
            "{'x6': set(['x2', 'x3', 'x1', 'x6', 'x4', 'x5'])}\n",
            "[('x2', 'x5'), ('x6', 'x2'), ('x6', 'x3'), ('x6', 'x1'), ('x6', 'x4')]\n"
          ],
          "name": "stdout"
        },
        {
          "output_type": "execute_result",
          "data": {
            "text/plain": [
              "True"
            ]
          },
          "metadata": {
            "tags": []
          },
          "execution_count": 99
        }
      ]
    },
    {
      "metadata": {
        "id": "VJy8dX954wGG",
        "colab_type": "text"
      },
      "cell_type": "markdown",
      "source": [
        "# Sampling the model"
      ]
    },
    {
      "metadata": {
        "id": "aOUH8VCf4zIx",
        "colab_type": "code",
        "colab": {}
      },
      "cell_type": "code",
      "source": [
        "x4=sampling_model(model4,4)"
      ],
      "execution_count": 0,
      "outputs": []
    },
    {
      "metadata": {
        "id": "GKDjBzf6-Zqz",
        "colab_type": "code",
        "colab": {
          "base_uri": "https://localhost:8080/",
          "height": 34
        },
        "outputId": "9204ccf9-a0b1-4efa-a45b-67d1161b4064"
      },
      "cell_type": "code",
      "source": [
        "s4=K2_scoring(x4,model4,4)"
      ],
      "execution_count": 101,
      "outputs": [
        {
          "output_type": "stream",
          "text": [
            "K2 score of model4:-6486.50445105\n"
          ],
          "name": "stdout"
        }
      ]
    },
    {
      "metadata": {
        "id": "cAlcH8as48Qb",
        "colab_type": "text"
      },
      "cell_type": "markdown",
      "source": [
        "# Model 5"
      ]
    },
    {
      "metadata": {
        "id": "93BpKtTR4_rN",
        "colab_type": "code",
        "outputId": "f6a34f71-f9a9-42fd-e852-8f0f89d31ead",
        "colab": {
          "base_uri": "https://localhost:8080/",
          "height": 68
        }
      },
      "cell_type": "code",
      "source": [
        "#create bayesian model\n",
        "model5=BayesianModel()\n",
        "#add edges to the model\n",
        "model5.add_edges_from([('x6','x1'),('x1','x2'),('x6','x3'),('x1','x4'),('x3','x5')])\n",
        "# checking for the nodes connected to the given node\n",
        "print(model5.active_trail_nodes('x6'))\n",
        "# checking all the nodes in the model\n",
        "print(model5.edges())\n",
        "# adding cpds to model\n",
        "model5.add_cpds(cpd_x6,cpd_x1_x6,cpd_x2_x1,cpd_x3_x6,cpd_x4_x1,cpd_x5_x3)\n",
        "# checking for cpds in model\n",
        "model5.get_cpds()\n",
        "#checking for model \n",
        "model5.check_model()"
      ],
      "execution_count": 102,
      "outputs": [
        {
          "output_type": "stream",
          "text": [
            "{'x6': set(['x2', 'x3', 'x1', 'x6', 'x4', 'x5'])}\n",
            "[('x3', 'x5'), ('x1', 'x2'), ('x1', 'x4'), ('x6', 'x3'), ('x6', 'x1')]\n"
          ],
          "name": "stdout"
        },
        {
          "output_type": "execute_result",
          "data": {
            "text/plain": [
              "True"
            ]
          },
          "metadata": {
            "tags": []
          },
          "execution_count": 102
        }
      ]
    },
    {
      "metadata": {
        "id": "J6wrysy05bzo",
        "colab_type": "text"
      },
      "cell_type": "markdown",
      "source": [
        "# Sampling the Model"
      ]
    },
    {
      "metadata": {
        "id": "8wGeVvaq5dyO",
        "colab_type": "code",
        "colab": {}
      },
      "cell_type": "code",
      "source": [
        "x5=sampling_model(model5,5)\n"
      ],
      "execution_count": 0,
      "outputs": []
    },
    {
      "metadata": {
        "id": "uZRDfXik-hNI",
        "colab_type": "code",
        "colab": {
          "base_uri": "https://localhost:8080/",
          "height": 34
        },
        "outputId": "8c1ab8a6-72b6-40bf-cdd1-fbde72072e72"
      },
      "cell_type": "code",
      "source": [
        "s5=K2_scoring(x5,model5,5)"
      ],
      "execution_count": 104,
      "outputs": [
        {
          "output_type": "stream",
          "text": [
            "K2 score of model5:-6447.90440184\n"
          ],
          "name": "stdout"
        }
      ]
    },
    {
      "metadata": {
        "id": "60dAKODd6Gmt",
        "colab_type": "text"
      },
      "cell_type": "markdown",
      "source": [
        "# Model 6"
      ]
    },
    {
      "metadata": {
        "id": "Vf1g6cI36JRy",
        "colab_type": "code",
        "outputId": "17ad0ad3-63a6-45df-fa13-8a3868f2442b",
        "colab": {
          "base_uri": "https://localhost:8080/",
          "height": 68
        }
      },
      "cell_type": "code",
      "source": [
        "#create bayesian model\n",
        "model6=BayesianModel()\n",
        "#add edges to the model\n",
        "model6.add_edges_from([('x6','x1'),('x1','x2'),('x6','x3'),('x1','x4'),('x2','x5')])\n",
        "# checking for the nodes connected to the given node\n",
        "print(model6.active_trail_nodes('x6'))\n",
        "# checking all the nodes in the model\n",
        "print(model6.edges())\n",
        "# adding cpds to model\n",
        "model6.add_cpds(cpd_x6,cpd_x1_x6,cpd_x2_x1,cpd_x3_x6,cpd_x4_x1,cpd_x5_x2)\n",
        "# checking for cpds in model\n",
        "model6.get_cpds()\n",
        "#checking for model \n",
        "model6.check_model()"
      ],
      "execution_count": 105,
      "outputs": [
        {
          "output_type": "stream",
          "text": [
            "{'x6': set(['x2', 'x3', 'x1', 'x6', 'x4', 'x5'])}\n",
            "[('x2', 'x5'), ('x1', 'x2'), ('x1', 'x4'), ('x6', 'x3'), ('x6', 'x1')]\n"
          ],
          "name": "stdout"
        },
        {
          "output_type": "execute_result",
          "data": {
            "text/plain": [
              "True"
            ]
          },
          "metadata": {
            "tags": []
          },
          "execution_count": 105
        }
      ]
    },
    {
      "metadata": {
        "id": "d3Od0qcz6URW",
        "colab_type": "text"
      },
      "cell_type": "markdown",
      "source": [
        "# Sampling the data"
      ]
    },
    {
      "metadata": {
        "id": "8Cts6TDM6W74",
        "colab_type": "code",
        "colab": {}
      },
      "cell_type": "code",
      "source": [
        "x6=sampling_model(model6,6)"
      ],
      "execution_count": 0,
      "outputs": []
    },
    {
      "metadata": {
        "id": "6rliuAFL-pNe",
        "colab_type": "code",
        "colab": {
          "base_uri": "https://localhost:8080/",
          "height": 34
        },
        "outputId": "20673afa-9b4f-42c0-9e80-05cd49627f7d"
      },
      "cell_type": "code",
      "source": [
        "s6=K2_scoring(x6,model6,6)"
      ],
      "execution_count": 107,
      "outputs": [
        {
          "output_type": "stream",
          "text": [
            "K2 score of model6:-6519.75749316\n"
          ],
          "name": "stdout"
        }
      ]
    },
    {
      "metadata": {
        "id": "aOCa3nIW7Dk2",
        "colab_type": "text"
      },
      "cell_type": "markdown",
      "source": [
        "# Model 7"
      ]
    },
    {
      "metadata": {
        "id": "Mm5-QcZQ7FgI",
        "colab_type": "code",
        "outputId": "084008ba-d4dc-408b-a158-e9f218bccf77",
        "colab": {
          "base_uri": "https://localhost:8080/",
          "height": 68
        }
      },
      "cell_type": "code",
      "source": [
        "#create bayesian model\n",
        "model7=BayesianModel()\n",
        "#add edges to the model\n",
        "model7.add_edges_from([('x4','x1'),('x4','x2'),('x1','x6'),('x2','x3'),('x2','x5')])\n",
        "# checking for the nodes connected to the given node\n",
        "print(model7.active_trail_nodes('x4'))\n",
        "# checking all the nodes in the model\n",
        "print(model7.edges())\n",
        "# adding cpds to model\n",
        "model7.add_cpds(cpd_x4,cpd_x1_x4,cpd_x2_x4,cpd_x3_x2,cpd_x6_x1,cpd_x5_x2)\n",
        "# checking for cpds in model\n",
        "model7.get_cpds()\n",
        "#checking for model \n",
        "model7.check_model()"
      ],
      "execution_count": 108,
      "outputs": [
        {
          "output_type": "stream",
          "text": [
            "{'x4': set(['x2', 'x3', 'x1', 'x6', 'x4', 'x5'])}\n",
            "[('x2', 'x3'), ('x2', 'x5'), ('x1', 'x6'), ('x4', 'x2'), ('x4', 'x1')]\n"
          ],
          "name": "stdout"
        },
        {
          "output_type": "execute_result",
          "data": {
            "text/plain": [
              "True"
            ]
          },
          "metadata": {
            "tags": []
          },
          "execution_count": 108
        }
      ]
    },
    {
      "metadata": {
        "id": "c91XqnHt7P6L",
        "colab_type": "text"
      },
      "cell_type": "markdown",
      "source": [
        "# Sampling the data"
      ]
    },
    {
      "metadata": {
        "id": "4ETTLYl37SZa",
        "colab_type": "code",
        "colab": {}
      },
      "cell_type": "code",
      "source": [
        "x7=sampling_model(model7,7)"
      ],
      "execution_count": 0,
      "outputs": []
    },
    {
      "metadata": {
        "id": "lLNAjcaj-wEV",
        "colab_type": "code",
        "colab": {
          "base_uri": "https://localhost:8080/",
          "height": 34
        },
        "outputId": "20c19cf2-2c55-4027-9008-aa04b386628e"
      },
      "cell_type": "code",
      "source": [
        "s7=K2_scoring(x7,model7,7)"
      ],
      "execution_count": 110,
      "outputs": [
        {
          "output_type": "stream",
          "text": [
            "K2 score of model7:-6504.08628778\n"
          ],
          "name": "stdout"
        }
      ]
    },
    {
      "metadata": {
        "id": "9nmiCMq1FMMX",
        "colab_type": "text"
      },
      "cell_type": "markdown",
      "source": [
        "# Calulating the High probablility TH looks"
      ]
    },
    {
      "metadata": {
        "id": "krMRJmJeFMnc",
        "colab_type": "code",
        "colab": {
          "base_uri": "https://localhost:8080/",
          "height": 170
        },
        "outputId": "0bc7fb9a-ab85-43c3-ba02-9d0e15fc03b1"
      },
      "cell_type": "code",
      "source": [
        "count=x1.groupby(best_sample.columns.tolist(),as_index=False).size().reset_index().rename(columns={0:'c'})\n",
        "max_value=count.loc[count['c'].idxmax()]\n",
        "print(\"High Probability th is:\")\n",
        "print(max_value)"
      ],
      "execution_count": 113,
      "outputs": [
        {
          "output_type": "stream",
          "text": [
            "High Probability th is:\n",
            "x1     0\n",
            "x6     3\n",
            "x4     0\n",
            "x2     1\n",
            "x3     1\n",
            "x5     3\n",
            "c     23\n",
            "Name: 146, dtype: int64\n"
          ],
          "name": "stdout"
        }
      ]
    },
    {
      "metadata": {
        "id": "TVHT0fuwFaDL",
        "colab_type": "text"
      },
      "cell_type": "markdown",
      "source": [
        "# Calulating the low probablility TH looks"
      ]
    },
    {
      "metadata": {
        "id": "L6HCfaHGFPOz",
        "colab_type": "code",
        "colab": {
          "base_uri": "https://localhost:8080/",
          "height": 170
        },
        "outputId": "82630b7e-dafc-4801-ef0b-c3ea7c842edd"
      },
      "cell_type": "code",
      "source": [
        "count=x1.groupby(best_sample.columns.tolist(),as_index=False).size().reset_index().rename(columns={0:'c'})\n",
        "min_value=count.loc[count['c'].idxmin()]\n",
        "print(\"Low probability th is:\")\n",
        "print(min_value)"
      ],
      "execution_count": 114,
      "outputs": [
        {
          "output_type": "stream",
          "text": [
            "Low probability th is:\n",
            "x1    0\n",
            "x6    0\n",
            "x4    0\n",
            "x2    0\n",
            "x3    1\n",
            "x5    3\n",
            "c     1\n",
            "Name: 0, dtype: int64\n"
          ],
          "name": "stdout"
        }
      ]
    },
    {
      "metadata": {
        "id": "mTj4mDGH__mP",
        "colab_type": "text"
      },
      "cell_type": "markdown",
      "source": [
        "# Task 3"
      ]
    },
    {
      "metadata": {
        "id": "-dI9EuX0RnUq",
        "colab_type": "text"
      },
      "cell_type": "markdown",
      "source": [
        "# Converting into Markov Model"
      ]
    },
    {
      "metadata": {
        "id": "ASYO6D_QH7iM",
        "colab_type": "code",
        "outputId": "cd4158ed-7700-411c-f462-7f46d63d4265",
        "colab": {
          "base_uri": "https://localhost:8080/",
          "height": 34
        }
      },
      "cell_type": "code",
      "source": [
        "mm=model1.to_markov_model()\n",
        "mm.nodes()\n",
        "mm.edges()"
      ],
      "execution_count": 116,
      "outputs": [
        {
          "output_type": "execute_result",
          "data": {
            "text/plain": [
              "[('x2', 'x3'), ('x2', 'x1'), ('x2', 'x5'), ('x1', 'x6'), ('x6', 'x4')]"
            ]
          },
          "metadata": {
            "tags": []
          },
          "execution_count": 116
        }
      ]
    },
    {
      "metadata": {
        "id": "9-46CDLT-ka2",
        "colab_type": "text"
      },
      "cell_type": "markdown",
      "source": [
        "# Inference from the  Markov Model"
      ]
    },
    {
      "metadata": {
        "id": "gHZ7cEPuH7iX",
        "colab_type": "code",
        "outputId": "1fd75737-34b8-47dd-93e3-85fd9865e7a3",
        "colab": {
          "base_uri": "https://localhost:8080/",
          "height": 255
        }
      },
      "cell_type": "code",
      "source": [
        "# creating a map query object\n",
        "inference = VariableElimination(mm)\n",
        "# starting the timer\n",
        "start = timer()\n",
        "# Querying the model using variable and evidence\n",
        "phi_query = inference.query(['x6'],evidence={'x1':3})['x6']\n",
        "#timer end\n",
        "end = timer()\n",
        "print(round(end - start,6))\n",
        "print(phi_query)"
      ],
      "execution_count": 117,
      "outputs": [
        {
          "output_type": "stream",
          "text": [
            "0.01026\n",
            "+------+-----------+\n",
            "| x6   |   phi(x6) |\n",
            "+======+===========+\n",
            "| x6_0 |    0.0000 |\n",
            "+------+-----------+\n",
            "| x6_1 |    0.3993 |\n",
            "+------+-----------+\n",
            "| x6_2 |    0.2001 |\n",
            "+------+-----------+\n",
            "| x6_3 |    0.1999 |\n",
            "+------+-----------+\n",
            "| x6_4 |    0.2006 |\n",
            "+------+-----------+\n"
          ],
          "name": "stdout"
        }
      ]
    },
    {
      "metadata": {
        "id": "ATnM7NIu_T_x",
        "colab_type": "text"
      },
      "cell_type": "markdown",
      "source": [
        "# Inference from the Bayesian Model"
      ]
    },
    {
      "metadata": {
        "id": "BOlU8r7PKL9W",
        "colab_type": "code",
        "outputId": "e74390ad-4d92-40f8-c250-95227d2fc82a",
        "colab": {
          "base_uri": "https://localhost:8080/",
          "height": 255
        }
      },
      "cell_type": "code",
      "source": [
        "# creating a map query object\n",
        "inference = VariableElimination(model1)\n",
        "# starting the timer\n",
        "start = timer()\n",
        "# Querying the model using variable and evidence\n",
        "phi_query = inference.query(['x6'],evidence={'x1':3})['x6']\n",
        "#timer end\n",
        "end = timer()\n",
        "print(round(end - start,6))\n",
        "print(phi_query)"
      ],
      "execution_count": 118,
      "outputs": [
        {
          "output_type": "stream",
          "text": [
            "0.00899\n",
            "+------+-----------+\n",
            "| x6   |   phi(x6) |\n",
            "+======+===========+\n",
            "| x6_0 |    0.0000 |\n",
            "+------+-----------+\n",
            "| x6_1 |    0.3993 |\n",
            "+------+-----------+\n",
            "| x6_2 |    0.2001 |\n",
            "+------+-----------+\n",
            "| x6_3 |    0.1999 |\n",
            "+------+-----------+\n",
            "| x6_4 |    0.2006 |\n",
            "+------+-----------+\n"
          ],
          "name": "stdout"
        }
      ]
    },
    {
      "metadata": {
        "id": "A6AaRKuL_3O2",
        "colab_type": "text"
      },
      "cell_type": "markdown",
      "source": [
        "# Task 4"
      ]
    },
    {
      "metadata": {
        "id": "gSDUaei3APl5",
        "colab_type": "text"
      },
      "cell_type": "markdown",
      "source": [
        "# Reading the dataset"
      ]
    },
    {
      "metadata": {
        "id": "SCthLiXVATbf",
        "colab_type": "code",
        "colab": {}
      },
      "cell_type": "code",
      "source": [
        "#reading the data\n",
        "and_data=pd.read_csv(\"AND.csv\")\n",
        "#removing unwanted columns\n",
        "and_data=and_data.drop([\"Number\",\"img_id\"],axis=1)"
      ],
      "execution_count": 0,
      "outputs": []
    },
    {
      "metadata": {
        "id": "JVXZG5S5Av9D",
        "colab_type": "text"
      },
      "cell_type": "markdown",
      "source": [
        "# Searching for DAG"
      ]
    },
    {
      "metadata": {
        "id": "REMpuhibAunz",
        "colab_type": "code",
        "colab": {}
      },
      "cell_type": "code",
      "source": [
        "# find the k2 of the given data\n",
        "k2=K2Score(and_data)\n",
        "# Perform Hill Climb Search on the dataset\n",
        "hc=HillClimbSearch(and_data,scoring_method=k2)"
      ],
      "execution_count": 0,
      "outputs": []
    },
    {
      "metadata": {
        "id": "q-xPcU-SA3Py",
        "colab_type": "text"
      },
      "cell_type": "markdown",
      "source": [
        "# Finding the Best Model"
      ]
    },
    {
      "metadata": {
        "id": "wA9rG78uA5or",
        "colab_type": "code",
        "colab": {
          "base_uri": "https://localhost:8080/",
          "height": 34
        },
        "outputId": "4a502099-00b7-4bb9-cc6e-f2884d146b2b"
      },
      "cell_type": "code",
      "source": [
        "# Predict the best model\n",
        "best_model=hc.estimate()\n",
        "print(best_model.edges())"
      ],
      "execution_count": 44,
      "outputs": [
        {
          "output_type": "stream",
          "text": [
            "[('f3', 'f8'), ('f3', 'f9'), ('f3', 'f4'), ('f5', 'f9'), ('f5', 'f3'), ('f9', 'f1'), ('f9', 'f2'), ('f9', 'f4'), ('f9', 'f6'), ('f9', 'f7'), ('f9', 'f8')]\n"
          ],
          "name": "stdout"
        }
      ]
    },
    {
      "metadata": {
        "id": "NWUQ2TrhA8kg",
        "colab_type": "text"
      },
      "cell_type": "markdown",
      "source": [
        "# Constructing the Bayesian Model"
      ]
    },
    {
      "metadata": {
        "id": "qnbY5iRcA_Lo",
        "colab_type": "code",
        "colab": {
          "base_uri": "https://localhost:8080/",
          "height": 170
        },
        "outputId": "408fc619-fe33-4b65-ecfa-c22b1a6e5f12"
      },
      "cell_type": "code",
      "source": [
        "# Create Bayesian Model\n",
        "model=BayesianModel()\n",
        "# add edges to bayesian model\n",
        "model.add_edges_from([('f3', 'f4'), ('f3', 'f9'), ('f3', 'f8'), ('f5', 'f9'), ('f5', 'f3'), ('f9', 'f8'), ('f9', 'f7'), ('f9', 'f1'), ('f9', 'f6'), ('f9', 'f2'), ('f9', 'f4')])\n",
        "#add cpd to bayesian model\n",
        "model.fit(and_data)\n",
        "#extract the cpds\n",
        "model.get_cpds()"
      ],
      "execution_count": 46,
      "outputs": [
        {
          "output_type": "execute_result",
          "data": {
            "text/plain": [
              "[<TabularCPD representing P(f1:4 | f9:2) at 0x7f42b4a7a2d0>,\n",
              " <TabularCPD representing P(f2:5 | f9:2) at 0x7f42b4a8bad0>,\n",
              " <TabularCPD representing P(f3:3 | f5:4) at 0x7f42b4a76f50>,\n",
              " <TabularCPD representing P(f4:5 | f3:3, f9:2) at 0x7f42b4891490>,\n",
              " <TabularCPD representing P(f5:4) at 0x7f42b489b2d0>,\n",
              " <TabularCPD representing P(f6:4 | f9:2) at 0x7f42b489ba10>,\n",
              " <TabularCPD representing P(f7:4 | f9:2) at 0x7f42b4891950>,\n",
              " <TabularCPD representing P(f8:5 | f3:3, f9:2) at 0x7f42b4a6d950>,\n",
              " <TabularCPD representing P(f9:2 | f3:3, f5:4) at 0x7f42b4a73c90>]"
            ]
          },
          "metadata": {
            "tags": []
          },
          "execution_count": 46
        }
      ]
    },
    {
      "metadata": {
        "id": "hBrXy4t_BG_w",
        "colab_type": "text"
      },
      "cell_type": "markdown",
      "source": [
        "# Calculating th K2 Score"
      ]
    },
    {
      "metadata": {
        "id": "MIhSCFK-BKHf",
        "colab_type": "code",
        "colab": {
          "base_uri": "https://localhost:8080/",
          "height": 34
        },
        "outputId": "351c599f-741f-4209-f6d5-ee728ad2c8e5"
      },
      "cell_type": "code",
      "source": [
        "print('K2 Score:'+str(k2.score(model)))"
      ],
      "execution_count": 48,
      "outputs": [
        {
          "output_type": "stream",
          "text": [
            "K2 Score:-9462.70489237\n"
          ],
          "name": "stdout"
        }
      ]
    },
    {
      "metadata": {
        "id": "wwMFZXZJB9V2",
        "colab_type": "text"
      },
      "cell_type": "markdown",
      "source": [
        "# Model2"
      ]
    },
    {
      "metadata": {
        "id": "D9LMc0RfBu_F",
        "colab_type": "code",
        "colab": {
          "base_uri": "https://localhost:8080/",
          "height": 187
        },
        "outputId": "97e6c3cd-e253-4dc7-f7a5-ad80bee0d3e7"
      },
      "cell_type": "code",
      "source": [
        "model2=BayesianModel()\n",
        "model2.add_edges_from([('f3', 'f4'), ('f3', 'f9'), ('f3', 'f8'), ('f5', 'f9'), ('f9', 'f8'), ('f9', 'f7'), ('f9', 'f1'), ('f9', 'f6'), ('f9', 'f2'), ('f9', 'f4')])\n",
        "model.fit(and_data)\n",
        "model2.get_cpds()\n",
        "print('K2 Score:'+str(k2.score(model2)))"
      ],
      "execution_count": 47,
      "outputs": [
        {
          "output_type": "stream",
          "text": [
            "WARNING:root:Replacing existing CPD for f1\n",
            "WARNING:root:Replacing existing CPD for f2\n",
            "WARNING:root:Replacing existing CPD for f3\n",
            "WARNING:root:Replacing existing CPD for f4\n",
            "WARNING:root:Replacing existing CPD for f5\n",
            "WARNING:root:Replacing existing CPD for f6\n",
            "WARNING:root:Replacing existing CPD for f7\n",
            "WARNING:root:Replacing existing CPD for f8\n",
            "WARNING:root:Replacing existing CPD for f9\n"
          ],
          "name": "stderr"
        },
        {
          "output_type": "stream",
          "text": [
            "K2 Score:-9476.24220506\n"
          ],
          "name": "stdout"
        }
      ]
    },
    {
      "metadata": {
        "id": "pJodCxghCgYY",
        "colab_type": "text"
      },
      "cell_type": "markdown",
      "source": [
        "# Model 3"
      ]
    },
    {
      "metadata": {
        "id": "MdFEhgOdCW0M",
        "colab_type": "code",
        "colab": {
          "base_uri": "https://localhost:8080/",
          "height": 187
        },
        "outputId": "177a5379-e56f-4f60-d70c-6d112a8e3c98"
      },
      "cell_type": "code",
      "source": [
        "model3=BayesianModel()\n",
        "model3.add_edges_from([('f3', 'f4'), ('f3', 'f9'), ('f3', 'f8'), ('f5', 'f9'), ('f5', 'f3'), ('f9', 'f8'), ('f9', 'f7'), ('f9', 'f1'), ('f9', 'f6'), ('f9', 'f2')])\n",
        "model.fit(and_data)\n",
        "model3.get_cpds()\n",
        "print('K2 Score:'+str(k2.score(model3)))"
      ],
      "execution_count": 49,
      "outputs": [
        {
          "output_type": "stream",
          "text": [
            "WARNING:root:Replacing existing CPD for f1\n",
            "WARNING:root:Replacing existing CPD for f2\n",
            "WARNING:root:Replacing existing CPD for f3\n",
            "WARNING:root:Replacing existing CPD for f4\n",
            "WARNING:root:Replacing existing CPD for f5\n",
            "WARNING:root:Replacing existing CPD for f6\n",
            "WARNING:root:Replacing existing CPD for f7\n",
            "WARNING:root:Replacing existing CPD for f8\n",
            "WARNING:root:Replacing existing CPD for f9\n"
          ],
          "name": "stderr"
        },
        {
          "output_type": "stream",
          "text": [
            "K2 Score:-9464.57546107\n"
          ],
          "name": "stdout"
        }
      ]
    },
    {
      "metadata": {
        "id": "hludzcC8CihM",
        "colab_type": "text"
      },
      "cell_type": "markdown",
      "source": [
        "# Model 4"
      ]
    },
    {
      "metadata": {
        "id": "m84iUzIYCYsU",
        "colab_type": "code",
        "colab": {
          "base_uri": "https://localhost:8080/",
          "height": 187
        },
        "outputId": "d34891db-3e8f-453d-e123-b69eef918d9c"
      },
      "cell_type": "code",
      "source": [
        "model4=BayesianModel()\n",
        "model4.add_edges_from([('f3', 'f4'), ('f3', 'f9'), ('f3', 'f8'), ('f5', 'f3'), ('f9', 'f8'), ('f9', 'f7'), ('f9', 'f1'), ('f9', 'f6'), ('f9', 'f2'), ('f9', 'f4')])\n",
        "model.fit(and_data)\n",
        "model4.get_cpds()\n",
        "print('K2 Score:'+str(k2.score(model4)))"
      ],
      "execution_count": 50,
      "outputs": [
        {
          "output_type": "stream",
          "text": [
            "WARNING:root:Replacing existing CPD for f1\n",
            "WARNING:root:Replacing existing CPD for f2\n",
            "WARNING:root:Replacing existing CPD for f3\n",
            "WARNING:root:Replacing existing CPD for f4\n",
            "WARNING:root:Replacing existing CPD for f5\n",
            "WARNING:root:Replacing existing CPD for f6\n",
            "WARNING:root:Replacing existing CPD for f7\n",
            "WARNING:root:Replacing existing CPD for f8\n",
            "WARNING:root:Replacing existing CPD for f9\n"
          ],
          "name": "stderr"
        },
        {
          "output_type": "stream",
          "text": [
            "K2 Score:-9526.33716368\n"
          ],
          "name": "stdout"
        }
      ]
    },
    {
      "metadata": {
        "id": "S4kF2pKqClGO",
        "colab_type": "text"
      },
      "cell_type": "markdown",
      "source": [
        "# Model 5"
      ]
    },
    {
      "metadata": {
        "id": "MrB9UlHRCaXe",
        "colab_type": "code",
        "colab": {
          "base_uri": "https://localhost:8080/",
          "height": 187
        },
        "outputId": "971194f5-5e50-457b-e44d-3d0d240f3ee4"
      },
      "cell_type": "code",
      "source": [
        "model5=BayesianModel()\n",
        "model5.add_edges_from([('f3', 'f4'), ('f3', 'f9'), ('f5', 'f9'), ('f5', 'f3'), ('f9', 'f8'), ('f9', 'f7'), ('f9', 'f1'), ('f9', 'f6'), ('f9', 'f2'), ('f9', 'f4')])\n",
        "model.fit(and_data)\n",
        "model5.get_cpds()\n",
        "print('K2 Score:'+str(k2.score(model5)))"
      ],
      "execution_count": 51,
      "outputs": [
        {
          "output_type": "stream",
          "text": [
            "WARNING:root:Replacing existing CPD for f1\n",
            "WARNING:root:Replacing existing CPD for f2\n",
            "WARNING:root:Replacing existing CPD for f3\n",
            "WARNING:root:Replacing existing CPD for f4\n",
            "WARNING:root:Replacing existing CPD for f5\n",
            "WARNING:root:Replacing existing CPD for f6\n",
            "WARNING:root:Replacing existing CPD for f7\n",
            "WARNING:root:Replacing existing CPD for f8\n",
            "WARNING:root:Replacing existing CPD for f9\n"
          ],
          "name": "stderr"
        },
        {
          "output_type": "stream",
          "text": [
            "K2 Score:-9463.48683957\n"
          ],
          "name": "stdout"
        }
      ]
    },
    {
      "metadata": {
        "id": "4yKJXU1-CnH8",
        "colab_type": "text"
      },
      "cell_type": "markdown",
      "source": [
        "# Convert to Markov Model"
      ]
    },
    {
      "metadata": {
        "id": "PW1FuazcCcBE",
        "colab_type": "code",
        "colab": {
          "base_uri": "https://localhost:8080/",
          "height": 204
        },
        "outputId": "d5d4553f-c992-46e2-e9d7-df5fa812f5b9"
      },
      "cell_type": "code",
      "source": [
        "# best Bayesian to markov conversion\n",
        "mm=model.to_markov_model()\n",
        "mm.nodes()\n",
        "mm.edges()"
      ],
      "execution_count": 120,
      "outputs": [
        {
          "output_type": "execute_result",
          "data": {
            "text/plain": [
              "[('f1', 'f9'),\n",
              " ('f2', 'f9'),\n",
              " ('f3', 'f8'),\n",
              " ('f3', 'f9'),\n",
              " ('f3', 'f4'),\n",
              " ('f3', 'f5'),\n",
              " ('f4', 'f9'),\n",
              " ('f5', 'f9'),\n",
              " ('f6', 'f9'),\n",
              " ('f7', 'f9'),\n",
              " ('f8', 'f9')]"
            ]
          },
          "metadata": {
            "tags": []
          },
          "execution_count": 120
        }
      ]
    },
    {
      "metadata": {
        "id": "mEvw1t7SCp2p",
        "colab_type": "text"
      },
      "cell_type": "markdown",
      "source": [
        "# Finding the inference of the AND Markov model"
      ]
    },
    {
      "metadata": {
        "id": "hNIqFZ82CePc",
        "colab_type": "code",
        "colab": {
          "base_uri": "https://localhost:8080/",
          "height": 255
        },
        "outputId": "435776e8-4a1f-4518-b8d3-266c1713a6b0"
      },
      "cell_type": "code",
      "source": [
        "# creating the inference \n",
        "inference = VariableElimination(mm)\n",
        "#start Time\n",
        "start = timer()\n",
        "# Query for a variable given evidence\n",
        "phi_query = inference.query(['f4'],evidence={'f3':0})['f4']\n",
        "end = timer()\n",
        "print(round(end - start,6)) \n",
        "print(phi_query)"
      ],
      "execution_count": 123,
      "outputs": [
        {
          "output_type": "stream",
          "text": [
            "0.027941\n",
            "+------+-----------+\n",
            "| f4   |   phi(f4) |\n",
            "+======+===========+\n",
            "| f4_0 |    0.1667 |\n",
            "+------+-----------+\n",
            "| f4_1 |    0.2348 |\n",
            "+------+-----------+\n",
            "| f4_2 |    0.4545 |\n",
            "+------+-----------+\n",
            "| f4_3 |    0.1212 |\n",
            "+------+-----------+\n",
            "| f4_4 |    0.0227 |\n",
            "+------+-----------+\n"
          ],
          "name": "stdout"
        }
      ]
    },
    {
      "metadata": {
        "id": "KFoRnOm2DriQ",
        "colab_type": "text"
      },
      "cell_type": "markdown",
      "source": [
        "# Finding the inference of the Best And Bayesian model"
      ]
    },
    {
      "metadata": {
        "id": "Kd1P9cygDsA9",
        "colab_type": "code",
        "colab": {
          "base_uri": "https://localhost:8080/",
          "height": 255
        },
        "outputId": "835478e1-52da-47fa-dfd3-ff34b548aa96"
      },
      "cell_type": "code",
      "source": [
        "inference = VariableElimination(model)\n",
        "#start Time\n",
        "start = timer()\n",
        "# Query for a variable given evidence\n",
        "phi_query = inference.query(['f4'],evidence={'f3':0})['f4']\n",
        "end = timer()\n",
        "print(round(end - start,6))\n",
        "print(phi_query)"
      ],
      "execution_count": 122,
      "outputs": [
        {
          "output_type": "stream",
          "text": [
            "0.015916\n",
            "+------+-----------+\n",
            "| f4   |   phi(f4) |\n",
            "+======+===========+\n",
            "| f4_0 |    0.1667 |\n",
            "+------+-----------+\n",
            "| f4_1 |    0.2348 |\n",
            "+------+-----------+\n",
            "| f4_2 |    0.4545 |\n",
            "+------+-----------+\n",
            "| f4_3 |    0.1212 |\n",
            "+------+-----------+\n",
            "| f4_4 |    0.0227 |\n",
            "+------+-----------+\n"
          ],
          "name": "stdout"
        }
      ]
    },
    {
      "metadata": {
        "id": "Rw77ZWnqEvFY",
        "colab_type": "code",
        "colab": {}
      },
      "cell_type": "code",
      "source": [
        ""
      ],
      "execution_count": 0,
      "outputs": []
    }
  ]
}